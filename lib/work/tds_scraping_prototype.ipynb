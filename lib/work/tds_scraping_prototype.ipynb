{
 "metadata": {
  "language_info": {
   "codemirror_mode": {
    "name": "ipython",
    "version": 3
   },
   "file_extension": ".py",
   "mimetype": "text/x-python",
   "name": "python",
   "nbconvert_exporter": "python",
   "pygments_lexer": "ipython3",
   "version": "3.8.5-final"
  },
  "orig_nbformat": 2,
  "kernelspec": {
   "name": "python3",
   "display_name": "Python 3.8.5 64-bit ('spark': conda)",
   "metadata": {
    "interpreter": {
     "hash": "258ac9dacf52a9f1ab5bf3e30bc7ee43d0d8d18db3d9056252a7bd0c013d9f1d"
    }
   }
  }
 },
 "nbformat": 4,
 "nbformat_minor": 2,
 "cells": [
  {
   "cell_type": "code",
   "execution_count": 1,
   "metadata": {},
   "outputs": [],
   "source": [
    "import requests\n",
    "from bs4 import BeautifulSoup\n",
    "import re"
   ]
  },
  {
   "cell_type": "code",
   "execution_count": 61,
   "metadata": {},
   "outputs": [],
   "source": [
    "response = requests.get('https://www.towardsdatascience.com/sitemap/sitemap.xml', 'xml')"
   ]
  },
  {
   "cell_type": "code",
   "execution_count": 63,
   "metadata": {},
   "outputs": [
    {
     "output_type": "execute_result",
     "data": {
      "text/plain": [
       "200"
      ]
     },
     "metadata": {},
     "execution_count": 63
    }
   ],
   "source": [
    "response.status_code"
   ]
  },
  {
   "cell_type": "code",
   "execution_count": 64,
   "metadata": {},
   "outputs": [],
   "source": [
    "soup = BeautifulSoup(response.text)"
   ]
  },
  {
   "cell_type": "code",
   "execution_count": 65,
   "metadata": {},
   "outputs": [],
   "source": [
    "links = [link.text for link in soup.find_all('loc') if re.match(\"^((?!tagged*).)*$\", link.text)]"
   ]
  },
  {
   "cell_type": "code",
   "execution_count": 66,
   "metadata": {},
   "outputs": [
    {
     "output_type": "execute_result",
     "data": {
      "text/plain": [
       "'https://towardsdatascience.com/lessons-learned-from-the-higgs-boson-kaggle-challenge-537b50e8c899'"
      ]
     },
     "metadata": {},
     "execution_count": 66
    }
   ],
   "source": [
    "links[0]"
   ]
  },
  {
   "cell_type": "code",
   "execution_count": 29,
   "metadata": {},
   "outputs": [],
   "source": [
    "re.match(\"^((?!tagged*).)*$\", 'https://towardsdatascience.com/tagged/kaggle-competition')"
   ]
  },
  {
   "cell_type": "code",
   "execution_count": 35,
   "metadata": {},
   "outputs": [],
   "source": [
    "page_1 = requests.get(links[0])"
   ]
  },
  {
   "cell_type": "code",
   "execution_count": 36,
   "metadata": {},
   "outputs": [
    {
     "output_type": "execute_result",
     "data": {
      "text/plain": [
       "200"
      ]
     },
     "metadata": {},
     "execution_count": 36
    }
   ],
   "source": [
    "page_1.status_code"
   ]
  },
  {
   "cell_type": "code",
   "execution_count": 38,
   "metadata": {},
   "outputs": [],
   "source": [
    "soup1 = BeautifulSoup(page_1.text)"
   ]
  },
  {
   "cell_type": "code",
   "execution_count": 41,
   "metadata": {},
   "outputs": [
    {
     "output_type": "execute_result",
     "data": {
      "text/plain": [
       "'Lessons Learned From The Higgs Boson Kaggle Challenge'"
      ]
     },
     "metadata": {},
     "execution_count": 41
    }
   ],
   "source": [
    "soup1.find('h1').text"
   ]
  },
  {
   "cell_type": "code",
   "execution_count": 110,
   "metadata": {},
   "outputs": [
    {
     "output_type": "execute_result",
     "data": {
      "text/plain": [
       "'A little while ago I participated in a competition on Kaggle called the Higgs Boson Machine Learning Challenge, and I wanted to share some thoughts about my approach to the competition and some of the lessons I learned that may be useful to other machine learning practitioners.'"
      ]
     },
     "metadata": {},
     "execution_count": 110
    }
   ],
   "source": [
    "soup1.find('article').find_all('p')[1].text"
   ]
  },
  {
   "cell_type": "code",
   "execution_count": 72,
   "metadata": {},
   "outputs": [
    {
     "output_type": "execute_result",
     "data": {
      "text/plain": [
       "'Lessons Learned From The Higgs Boson Kaggle Challenge'"
      ]
     },
     "metadata": {},
     "execution_count": 72
    }
   ],
   "source": [
    "soup1.find_all('section')[1].find('h1').text"
   ]
  },
  {
   "cell_type": "code",
   "execution_count": 73,
   "metadata": {},
   "outputs": [],
   "source": [
    "title = soup1.find('h1')"
   ]
  },
  {
   "cell_type": "code",
   "execution_count": 93,
   "metadata": {},
   "outputs": [
    {
     "output_type": "execute_result",
     "data": {
      "text/plain": [
       "'div'"
      ]
     },
     "metadata": {},
     "execution_count": 93
    }
   ],
   "source": [
    "title.find_next().name"
   ]
  },
  {
   "cell_type": "code",
   "execution_count": 81,
   "metadata": {},
   "outputs": [
    {
     "output_type": "execute_result",
     "data": {
      "text/plain": [
       "<re.Match object; span=(15, 27), match='Nov 25, 2014'>"
      ]
     },
     "metadata": {},
     "execution_count": 81
    }
   ],
   "source": [
    "re.search('[A-Za-z]{3} [0-9]{2}[,] [0-9]{4}', 'John WittenauerNov 25, 2014·6 min read')"
   ]
  },
  {
   "cell_type": "code",
   "execution_count": 75,
   "metadata": {},
   "outputs": [],
   "source": [
    "soup2 = requests.get(\"https://towardsdatascience.com/improving-data-engineering-workflows-with-end-to-end-data-observability-2fea930d8333\")\n",
    "# soup2 = requests.get(\"https://towardsdatascience.com/part-8-ab-joins-with-stumpy-af985e12e391\")"
   ]
  },
  {
   "cell_type": "code",
   "execution_count": 76,
   "metadata": {},
   "outputs": [],
   "source": [
    "soup2 = BeautifulSoup(soup2.text)"
   ]
  },
  {
   "source": [
    "Try to get Number of Claps"
   ],
   "cell_type": "markdown",
   "metadata": {}
  },
  {
   "cell_type": "code",
   "execution_count": 86,
   "metadata": {},
   "outputs": [
    {
     "output_type": "execute_result",
     "data": {
      "text/plain": [
       "171"
      ]
     },
     "metadata": {},
     "execution_count": 86
    }
   ],
   "source": [
    "# Find first svg for the clap and move back 4 parents and forwards one sibling\n",
    "int(soup2.find('svg', {'aria-label':'clap'}).find_parent().find_parent().find_parent().find_parent().find_next_sibling().text.strip())"
   ]
  },
  {
   "cell_type": "code",
   "execution_count": 78,
   "metadata": {},
   "outputs": [
    {
     "output_type": "stream",
     "name": "stdout",
     "text": [
      "171 \n"
     ]
    }
   ],
   "source": [
    "no_sibling = True\n",
    "curs = soup2.find('svg', {'aria-label':'clap'})\n",
    "while no_sibling:\n",
    "    try:\n",
    "        claps = curs.find_next_sibling().text\n",
    "        no_sibling = False\n",
    "    except:\n",
    "        curs = curs.find_parent()\n",
    "\n",
    "print(claps)"
   ]
  },
  {
   "source": [
    "Get Number of Images"
   ],
   "cell_type": "markdown",
   "metadata": {}
  },
  {
   "cell_type": "code",
   "execution_count": 79,
   "metadata": {},
   "outputs": [
    {
     "output_type": "execute_result",
     "data": {
      "text/plain": [
       "3"
      ]
     },
     "metadata": {},
     "execution_count": 79
    }
   ],
   "source": [
    "len(soup2.find('article').find_all('img', {'src':True, 'sizes':True}))"
   ]
  },
  {
   "source": [
    "Find Number of Cell Blocks"
   ],
   "cell_type": "markdown",
   "metadata": {}
  },
  {
   "cell_type": "code",
   "execution_count": 80,
   "metadata": {},
   "outputs": [
    {
     "output_type": "execute_result",
     "data": {
      "text/plain": [
       "0"
      ]
     },
     "metadata": {},
     "execution_count": 80
    }
   ],
   "source": [
    "len(soup2.find('article').find_all('pre'))"
   ]
  },
  {
   "cell_type": "code",
   "execution_count": 81,
   "metadata": {},
   "outputs": [
    {
     "output_type": "execute_result",
     "data": {
      "text/plain": [
       "0"
      ]
     },
     "metadata": {},
     "execution_count": 81
    }
   ],
   "source": [
    "len(soup2.find('article').find_all('table'))"
   ]
  },
  {
   "source": [
    "Update existing Scraped Data"
   ],
   "cell_type": "markdown",
   "metadata": {}
  },
  {
   "cell_type": "code",
   "execution_count": 82,
   "metadata": {},
   "outputs": [],
   "source": [
    "# Get list of already scraped links\n",
    "import psycopg2\n",
    "import pandas as pd\n",
    "\n",
    "conn=psycopg2.connect(database='DS_Articles', user='postgres', host='127.0.0.1', port= '5432')\n",
    "\n",
    "query = \"\"\"\n",
    "SELECT link FROM towards_ds;\n",
    "\"\"\"\n",
    "\n",
    "links = pd.read_sql_query(query, conn)"
   ]
  },
  {
   "cell_type": "code",
   "execution_count": 84,
   "metadata": {},
   "outputs": [
    {
     "output_type": "execute_result",
     "data": {
      "text/plain": [
       "True"
      ]
     },
     "metadata": {},
     "execution_count": 84
    }
   ],
   "source": [
    "# Get new links from sitemap\n",
    "new_links = [link.text for link in soup.find_all('loc') if re.match(\"^((?!tagged*).)*$\", link.text)]"
   ]
  },
  {
   "cell_type": "code",
   "execution_count": 4,
   "metadata": {},
   "outputs": [],
   "source": [
    "import tds_scraping as sc"
   ]
  },
  {
   "cell_type": "code",
   "execution_count": 5,
   "metadata": {},
   "outputs": [
    {
     "output_type": "error",
     "ename": "AttributeError",
     "evalue": "module 'tds_scraping' has no attribute 'update_db'",
     "traceback": [
      "\u001b[0;31m---------------------------------------------------------------------------\u001b[0m",
      "\u001b[0;31mAttributeError\u001b[0m                            Traceback (most recent call last)",
      "\u001b[0;32m<ipython-input-5-d86c779e225e>\u001b[0m in \u001b[0;36m<module>\u001b[0;34m\u001b[0m\n\u001b[0;32m----> 1\u001b[0;31m \u001b[0msc\u001b[0m\u001b[0;34m.\u001b[0m\u001b[0mupdate_db\u001b[0m\u001b[0;34m(\u001b[0m\u001b[0;34m\"https://towardsdatascience.com/lessons-learned-from-the-higgs-boson-kaggle-challenge-537b50e8c899\"\u001b[0m\u001b[0;34m)\u001b[0m\u001b[0;34m\u001b[0m\u001b[0;34m\u001b[0m\u001b[0m\n\u001b[0m",
      "\u001b[0;31mAttributeError\u001b[0m: module 'tds_scraping' has no attribute 'update_db'"
     ]
    }
   ],
   "source": [
    "sc.update_db(\"https://towardsdatascience.com/lessons-learned-from-the-higgs-boson-kaggle-challenge-537b50e8c899\")"
   ]
  },
  {
   "cell_type": "code",
   "execution_count": 7,
   "metadata": {},
   "outputs": [],
   "source": [
    "soup = sc.get_soup('https://towardsdatascience.com/lessons-learned-from-the-higgs-boson-kaggle-challenge-537b50e8c899')"
   ]
  },
  {
   "cell_type": "code",
   "execution_count": null,
   "metadata": {},
   "outputs": [],
   "source": []
  },
  {
   "cell_type": "code",
   "execution_count": null,
   "metadata": {},
   "outputs": [],
   "source": []
  }
 ]
}